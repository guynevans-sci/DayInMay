{
 "cells": [
  {
   "cell_type": "markdown",
   "metadata": {},
   "source": [
    "# Getting started with Jupyter Notebook\n",
    "prepared by Guy Evans, PhD\n",
    "\n",
    "# 1. Downloading Jupyter Notebook\n",
    "The easiest way to download Jupyter Notebook is through the [Anaconda Distribution](https://www.anaconda.com/products/individual). Simply follow the link, scroll down to the bottom of the page, click on the version most appropriate for you and your computer, and install. You will most likely want to download and install using the 64-Bit Graphical Installer.  \n",
    "\n",
    "If you have not yet downloaded and installed the Anaconda Distribution or Jupyter Notebook, please do so now. If you have downloaded and installed the Anaconda Distribution, the you already have Jupyter Notebook. Congratulations!\n",
    "\n",
    "**Note for Google Chromebook and other 'cloud-enabled' devices:**  \n",
    "Google Chromebooks and other 'cloud-enabled device' are not full-function laptops as they do not allow you to download and install programs. Please be aware that the university requires all students to obtain a full function laptop that is capable of downloading and installing programs. If this is an issue for you, please contact your instructor. Workarounds, such as the [online trial version of JupyterLab](https://jupyter.org/try) may be available.  \n",
    "\n",
    "**Note for Instructors:**  \n",
    "While most of this notebook is focused on performing specific tasks using Jupyter Notebook, it is important to remember that we are also using this program to teach students, either about Jupyter Notebook itself or (more likely) about the data we are trying to explore using this program. As such, I recommend that you also read the **pedagogocial notes** found at the bottom of this notebook. "
   ]
  },
  {
   "cell_type": "markdown",
   "metadata": {},
   "source": [
    "# 2. What is a \"Notebook\"?\n",
    "Jupyter Notebook is a **computational notebook**. A computational notebook is designed to allow the user to present:  \n",
    "1. working computer code   \n",
    "2. text-based explanations of why and how that code is being used.   \n",
    "\n",
    "Thus, a Jupyter Notebook can be divided into:  \n",
    "1. **Code blocks**, which contain working computer code  \n",
    "2. **Markdown blocks**, which contain text-based explanations\n",
    "\n",
    "## 2.1. Code Blocks\n",
    "Code blocks contain working computer code and are typically written in [Python](https://www.python.org/). As computer coding languages go, [Python](https://www.python.org/) is both extremely versitile and relatively straightforward. As such, it is a valuable skill to learn and very much accessible to non-programmers. Furthermore, there is an extensive user community out there. So, if you want to do someting in python or Jupyter Notebook, simply conduct an internet search for \"Python \\[thing you want to do\\]\" or  \"Jupyter \\[thing you want to do\\]\" and you will usually get an answer. Good answers often come from StackExchange, but other sites also have good answers sometimes and you may need to poke around a bit and try some stuff out before finding an appropriate answer.  \n",
    "\n",
    "To select a code block to run or edit code, simply click on the block. A green box will appear around the block, showing that it is selected. To edit, simply click on the place you wish to edit and start typing. To run, simply click **Run** in the toolbar at the top of the page. You can also run all blocks by clicking on the double arrows (the 'fast forward' icon) in the same toolbar. You can then click \"Restart and Run All Cells\". Below are some examples of simple Python code. Click **Run** at in the tool bar at the top of your screen to run the code block. Then, change some of the variables to see what happens."
   ]
  },
  {
   "cell_type": "code",
   "execution_count": 1,
   "metadata": {},
   "outputs": [
    {
     "name": "stdout",
     "output_type": "stream",
     "text": [
      "3\n"
     ]
    }
   ],
   "source": [
    "a=1\n",
    "b=2\n",
    "c=a+b\n",
    "print(c)"
   ]
  },
  {
   "cell_type": "code",
   "execution_count": 2,
   "metadata": {},
   "outputs": [
    {
     "name": "stdout",
     "output_type": "stream",
     "text": [
      "This is a string.\n"
     ]
    }
   ],
   "source": [
    "d='This '\n",
    "e='is a string.'\n",
    "f=d+e\n",
    "print(f)"
   ]
  },
  {
   "cell_type": "code",
   "execution_count": 3,
   "metadata": {},
   "outputs": [
    {
     "name": "stdout",
     "output_type": "stream",
     "text": [
      "[0, 1, 4, 9, 16, 25]\n"
     ]
    }
   ],
   "source": [
    "g=[0,1,2,3,4,5]\n",
    "h=2\n",
    "i = [x ** h for x in g] \n",
    "print(i)"
   ]
  },
  {
   "cell_type": "markdown",
   "metadata": {},
   "source": [
    "That last one is an example of a technique called **list comprehension**. To be fair, that's not the simplest example of code, but it's a very useful technique and should start to give you an idea of what Python (and Jupyter) can do. "
   ]
  },
  {
   "cell_type": "markdown",
   "metadata": {},
   "source": [
    "### 2.2.1. Coding in Other Languages \n",
    "It is possible to set up a Jupyter Notebook to run languages other than Python (e.g., R, Fortran, MATLAB, C++, Stata, SQL, ...). This is done through various [Jupyter kernels](https://github.com/jupyter/jupyter/wiki/Jupyter-kernels). Please note that you will need to have the other program installed and properly connected to the Jupyter Notebook environment for these kernals to work. This is clearly a more advanced technique and may be difficult for beginning users. So, if you are starting from scratch, it's probably best to just stick with Python. However, it's useful to know that other options are available, especially if you have inherited code from somewhere else (perhaps in a research context) that you want to run in the Jupyter Notebook environment"
   ]
  },
  {
   "cell_type": "markdown",
   "metadata": {},
   "source": [
    "## 2.2. Markdown Blocks\n",
    "Markdown blocks are used to explain how and why you are using a particular piece of code. Markdown blocks are written in Markdown, which is a lightweight markup language for plain text. You can write plain text and perform some basic text manipulations. For more on Markdown, see this [Markdown reference guide on Github](https://guides.github.com/features/mastering-markdown/). \n",
    "\n",
    "For more complicated text formats, you will want to use HTML, which is bracketed with '<>' at the beginning and '</ >' at the end. Markdown blocks will also accept [$\\LaTeX$](https://www.latex-project.org), which is bracketed with '\\\\$' for in-ine text or '\\\\$\\\\$' for separate lines. "
   ]
  },
  {
   "cell_type": "markdown",
   "metadata": {},
   "source": [
    "Here is an example of the Law of Cosines using $\\LaTeX$: \n",
    "\n",
    "$$c = \\sqrt{a^2+b^2 - 2ab cos(\\theta)}\\tag{1}$$"
   ]
  },
  {
   "cell_type": "markdown",
   "metadata": {},
   "source": [
    "Here is an example of some **HTML**.\n",
    "\n",
    "<p style=\"text-align: left;\">\n",
    " <font size=\"6\">\n",
    "    Having <b>FUN</b> with\n",
    "    <font color=\"blue\"> \n",
    "    Jupyter\n",
    "    <font color=\"orange\"> \n",
    "    Notebook\n",
    "    <font color=\"black\">\n",
    "    and Pandas\n",
    " </font>\n",
    "\n",
    "<img src=\"https://media.giphy.com/media/wbFiPNhOEVKkU/giphy.gif\" alt=\"Struggling with Pandas\"> \n",
    "</p>"
   ]
  },
  {
   "cell_type": "markdown",
   "metadata": {},
   "source": [
    "# 3. Software Libraries\n",
    "A powerful aspect of the Python computing language is the availability of extendable \"libraries\" that contain code specialized for various purposes. Many useful libraries are downloaded as part of the Anaconda Distribution. Other, more specialized libraries can be downloaded using the [conda installer](https://docs.conda.io/projects/conda/en/latest/user-guide/install/) accessed through the Terminal application (for MacOS or Linux) or the Anaconda Prompt (for Windows).  \n",
    "\n",
    "For now, we will just focus on importing a basic library downloaded as part of the Anaconda Distribution. This library, called \"Pandas\" contains code useful for manipulating \"data frames\", essentially data tables. In the following code block, we will import the Python library [Pandas](https://pandas.pydata.org/) and give it the alias \"pd\". This means that the next time we want to access the Pandas library, we will just type in the alias \"pd\". "
   ]
  },
  {
   "cell_type": "code",
   "execution_count": 4,
   "metadata": {},
   "outputs": [],
   "source": [
    "import pandas as pd # imports the Python library called \"Pandas\""
   ]
  },
  {
   "cell_type": "markdown",
   "metadata": {},
   "source": [
    "## 3.1. Online Access with Binder\n",
    "If you store your Jupyter Notebook file and related data files in a Github repository, you can go to [My Binder](https://mybinder.org/) to generate an online interactive version of your Notebook based on the Github repository. To do this, you will also need to add a file called **requirements.txt** to your Github folder. This is a plain text file that simply contains the names of the python libraries your Jupyter Notebook will imports.  \n",
    "\n",
    "For example, the **requirements.txt** file for this notebook would look like this:\n",
    "\n",
    "pandas   \n",
    "matplotlib  \n",
    "urllib  \n",
    "nltk  \n",
    "math"
   ]
  },
  {
   "cell_type": "markdown",
   "metadata": {},
   "source": [
    "# 4. Accessing Data\n",
    "There are many ways of acessing data (either online or locally downloaded) using Jupyter Notebook. However, the simplest method for beginning users is probably to access the data as a .csv file stored in the same folder as the notebook. This method would likely be most appropriate in a classroom setting where standardization and ease of access are more important than ensuring that the data are precisely up-to-date.  \n",
    "\n",
    "Once the data are downloaded, the data can be imported and accessed and selected using the **pandas library**, which is how Python deals with dataframes or tables. Here is a link to a [pandas tutorial](https://pandas.pydata.org/pandas-docs/version/0.15/tutorials.html).\n",
    "  \n",
    "As a reminder, we imported the pandas library as the alias 'pd' in Section 3. That means thas we can use functions from the pandas library by typing:  \n",
    "\n",
    "**pd.function_we_want_to_use(function input variables, ...)**  \n",
    "\n",
    "As always, it's probably easier to just look at an example."
   ]
  },
  {
   "cell_type": "markdown",
   "metadata": {},
   "source": [
    "## 4.1. Example: Apples and Bananas \n",
    "In the example below, we have downloaded production figures for apples 🍎 and bananas 🍌from the website [FAOSTAT](http://www.fao.org/faostat/en/#data), a compilation of datasets produced by the [Food and Agriculture Ogranization](http://www.fao.org/home/en/) of the United Nations. These data are currently stored as a .csv file called 'FAOSTAT_data_5-23-2020_Apples_Bananas.csv' in the same folder as the Notebook. We could change the file location to access data from a different source.\n",
    "\n",
    "We will first import the data set from the .csv file into a pandas data frame:"
   ]
  },
  {
   "cell_type": "code",
   "execution_count": 5,
   "metadata": {},
   "outputs": [],
   "source": [
    "file_location = 'FAOSTAT_data_5-23-2020_Apples_Bananas.csv'\n",
    "FAO_apples_bananas = pd.read_csv(file_location)"
   ]
  },
  {
   "cell_type": "markdown",
   "metadata": {},
   "source": [
    "To make sure that we've successfully imported the data set, we will take a peak at the **first few lines of data**:"
   ]
  },
  {
   "cell_type": "code",
   "execution_count": 6,
   "metadata": {},
   "outputs": [
    {
     "data": {
      "text/html": [
       "<div>\n",
       "<style scoped>\n",
       "    .dataframe tbody tr th:only-of-type {\n",
       "        vertical-align: middle;\n",
       "    }\n",
       "\n",
       "    .dataframe tbody tr th {\n",
       "        vertical-align: top;\n",
       "    }\n",
       "\n",
       "    .dataframe thead th {\n",
       "        text-align: right;\n",
       "    }\n",
       "</style>\n",
       "<table border=\"1\" class=\"dataframe\">\n",
       "  <thead>\n",
       "    <tr style=\"text-align: right;\">\n",
       "      <th></th>\n",
       "      <th>Domain Code</th>\n",
       "      <th>Domain</th>\n",
       "      <th>Area Code</th>\n",
       "      <th>Area</th>\n",
       "      <th>Element Code</th>\n",
       "      <th>Element</th>\n",
       "      <th>Item Code</th>\n",
       "      <th>Item</th>\n",
       "      <th>Year Code</th>\n",
       "      <th>Year</th>\n",
       "      <th>Unit</th>\n",
       "      <th>Value</th>\n",
       "      <th>Flag</th>\n",
       "      <th>Flag Description</th>\n",
       "    </tr>\n",
       "  </thead>\n",
       "  <tbody>\n",
       "    <tr>\n",
       "      <th>0</th>\n",
       "      <td>QC</td>\n",
       "      <td>Crops</td>\n",
       "      <td>2</td>\n",
       "      <td>Afghanistan</td>\n",
       "      <td>5312</td>\n",
       "      <td>Area harvested</td>\n",
       "      <td>515</td>\n",
       "      <td>Apples</td>\n",
       "      <td>1961</td>\n",
       "      <td>1961</td>\n",
       "      <td>ha</td>\n",
       "      <td>2220.0</td>\n",
       "      <td>F</td>\n",
       "      <td>FAO estimate</td>\n",
       "    </tr>\n",
       "    <tr>\n",
       "      <th>1</th>\n",
       "      <td>QC</td>\n",
       "      <td>Crops</td>\n",
       "      <td>2</td>\n",
       "      <td>Afghanistan</td>\n",
       "      <td>5312</td>\n",
       "      <td>Area harvested</td>\n",
       "      <td>515</td>\n",
       "      <td>Apples</td>\n",
       "      <td>1962</td>\n",
       "      <td>1962</td>\n",
       "      <td>ha</td>\n",
       "      <td>2220.0</td>\n",
       "      <td>F</td>\n",
       "      <td>FAO estimate</td>\n",
       "    </tr>\n",
       "    <tr>\n",
       "      <th>2</th>\n",
       "      <td>QC</td>\n",
       "      <td>Crops</td>\n",
       "      <td>2</td>\n",
       "      <td>Afghanistan</td>\n",
       "      <td>5312</td>\n",
       "      <td>Area harvested</td>\n",
       "      <td>515</td>\n",
       "      <td>Apples</td>\n",
       "      <td>1963</td>\n",
       "      <td>1963</td>\n",
       "      <td>ha</td>\n",
       "      <td>2220.0</td>\n",
       "      <td>F</td>\n",
       "      <td>FAO estimate</td>\n",
       "    </tr>\n",
       "    <tr>\n",
       "      <th>3</th>\n",
       "      <td>QC</td>\n",
       "      <td>Crops</td>\n",
       "      <td>2</td>\n",
       "      <td>Afghanistan</td>\n",
       "      <td>5312</td>\n",
       "      <td>Area harvested</td>\n",
       "      <td>515</td>\n",
       "      <td>Apples</td>\n",
       "      <td>1964</td>\n",
       "      <td>1964</td>\n",
       "      <td>ha</td>\n",
       "      <td>2350.0</td>\n",
       "      <td>F</td>\n",
       "      <td>FAO estimate</td>\n",
       "    </tr>\n",
       "    <tr>\n",
       "      <th>4</th>\n",
       "      <td>QC</td>\n",
       "      <td>Crops</td>\n",
       "      <td>2</td>\n",
       "      <td>Afghanistan</td>\n",
       "      <td>5312</td>\n",
       "      <td>Area harvested</td>\n",
       "      <td>515</td>\n",
       "      <td>Apples</td>\n",
       "      <td>1965</td>\n",
       "      <td>1965</td>\n",
       "      <td>ha</td>\n",
       "      <td>2480.0</td>\n",
       "      <td>F</td>\n",
       "      <td>FAO estimate</td>\n",
       "    </tr>\n",
       "  </tbody>\n",
       "</table>\n",
       "</div>"
      ],
      "text/plain": [
       "  Domain Code Domain  Area Code         Area  Element Code         Element  \\\n",
       "0          QC  Crops          2  Afghanistan          5312  Area harvested   \n",
       "1          QC  Crops          2  Afghanistan          5312  Area harvested   \n",
       "2          QC  Crops          2  Afghanistan          5312  Area harvested   \n",
       "3          QC  Crops          2  Afghanistan          5312  Area harvested   \n",
       "4          QC  Crops          2  Afghanistan          5312  Area harvested   \n",
       "\n",
       "   Item Code    Item  Year Code  Year Unit   Value Flag Flag Description  \n",
       "0        515  Apples       1961  1961   ha  2220.0    F     FAO estimate  \n",
       "1        515  Apples       1962  1962   ha  2220.0    F     FAO estimate  \n",
       "2        515  Apples       1963  1963   ha  2220.0    F     FAO estimate  \n",
       "3        515  Apples       1964  1964   ha  2350.0    F     FAO estimate  \n",
       "4        515  Apples       1965  1965   ha  2480.0    F     FAO estimate  "
      ]
     },
     "execution_count": 6,
     "metadata": {},
     "output_type": "execute_result"
    }
   ],
   "source": [
    "FAO_apples_bananas.head()"
   ]
  },
  {
   "cell_type": "markdown",
   "metadata": {},
   "source": [
    "We can also take a look at the **last few lines**..."
   ]
  },
  {
   "cell_type": "code",
   "execution_count": 7,
   "metadata": {},
   "outputs": [
    {
     "data": {
      "text/html": [
       "<div>\n",
       "<style scoped>\n",
       "    .dataframe tbody tr th:only-of-type {\n",
       "        vertical-align: middle;\n",
       "    }\n",
       "\n",
       "    .dataframe tbody tr th {\n",
       "        vertical-align: top;\n",
       "    }\n",
       "\n",
       "    .dataframe thead th {\n",
       "        text-align: right;\n",
       "    }\n",
       "</style>\n",
       "<table border=\"1\" class=\"dataframe\">\n",
       "  <thead>\n",
       "    <tr style=\"text-align: right;\">\n",
       "      <th></th>\n",
       "      <th>Domain Code</th>\n",
       "      <th>Domain</th>\n",
       "      <th>Area Code</th>\n",
       "      <th>Area</th>\n",
       "      <th>Element Code</th>\n",
       "      <th>Element</th>\n",
       "      <th>Item Code</th>\n",
       "      <th>Item</th>\n",
       "      <th>Year Code</th>\n",
       "      <th>Year</th>\n",
       "      <th>Unit</th>\n",
       "      <th>Value</th>\n",
       "      <th>Flag</th>\n",
       "      <th>Flag Description</th>\n",
       "    </tr>\n",
       "  </thead>\n",
       "  <tbody>\n",
       "    <tr>\n",
       "      <th>36369</th>\n",
       "      <td>QC</td>\n",
       "      <td>Crops</td>\n",
       "      <td>181</td>\n",
       "      <td>Zimbabwe</td>\n",
       "      <td>5510</td>\n",
       "      <td>Production</td>\n",
       "      <td>486</td>\n",
       "      <td>Bananas</td>\n",
       "      <td>2016</td>\n",
       "      <td>2016</td>\n",
       "      <td>tonnes</td>\n",
       "      <td>104095.0</td>\n",
       "      <td>Im</td>\n",
       "      <td>FAO data based on imputation methodology</td>\n",
       "    </tr>\n",
       "    <tr>\n",
       "      <th>36370</th>\n",
       "      <td>QC</td>\n",
       "      <td>Crops</td>\n",
       "      <td>181</td>\n",
       "      <td>Zimbabwe</td>\n",
       "      <td>5510</td>\n",
       "      <td>Production</td>\n",
       "      <td>486</td>\n",
       "      <td>Bananas</td>\n",
       "      <td>2017</td>\n",
       "      <td>2017</td>\n",
       "      <td>tonnes</td>\n",
       "      <td>105118.0</td>\n",
       "      <td>Im</td>\n",
       "      <td>FAO data based on imputation methodology</td>\n",
       "    </tr>\n",
       "    <tr>\n",
       "      <th>36371</th>\n",
       "      <td>QC</td>\n",
       "      <td>Crops</td>\n",
       "      <td>181</td>\n",
       "      <td>Zimbabwe</td>\n",
       "      <td>5510</td>\n",
       "      <td>Production</td>\n",
       "      <td>486</td>\n",
       "      <td>Bananas</td>\n",
       "      <td>2018</td>\n",
       "      <td>2018</td>\n",
       "      <td>tonnes</td>\n",
       "      <td>106058.0</td>\n",
       "      <td>Im</td>\n",
       "      <td>FAO data based on imputation methodology</td>\n",
       "    </tr>\n",
       "  </tbody>\n",
       "</table>\n",
       "</div>"
      ],
      "text/plain": [
       "      Domain Code Domain  Area Code      Area  Element Code     Element  \\\n",
       "36369          QC  Crops        181  Zimbabwe          5510  Production   \n",
       "36370          QC  Crops        181  Zimbabwe          5510  Production   \n",
       "36371          QC  Crops        181  Zimbabwe          5510  Production   \n",
       "\n",
       "       Item Code     Item  Year Code  Year    Unit     Value Flag  \\\n",
       "36369        486  Bananas       2016  2016  tonnes  104095.0   Im   \n",
       "36370        486  Bananas       2017  2017  tonnes  105118.0   Im   \n",
       "36371        486  Bananas       2018  2018  tonnes  106058.0   Im   \n",
       "\n",
       "                               Flag Description  \n",
       "36369  FAO data based on imputation methodology  \n",
       "36370  FAO data based on imputation methodology  \n",
       "36371  FAO data based on imputation methodology  "
      ]
     },
     "execution_count": 7,
     "metadata": {},
     "output_type": "execute_result"
    }
   ],
   "source": [
    "FAO_apples_bananas.tail(3)"
   ]
  },
  {
   "cell_type": "markdown",
   "metadata": {},
   "source": [
    "It is also a good idea to look at the **size** of the data set..."
   ]
  },
  {
   "cell_type": "code",
   "execution_count": 8,
   "metadata": {},
   "outputs": [
    {
     "data": {
      "text/plain": [
       "509208"
      ]
     },
     "execution_count": 8,
     "metadata": {},
     "output_type": "execute_result"
    }
   ],
   "source": [
    "FAO_apples_bananas.size"
   ]
  },
  {
   "cell_type": "markdown",
   "metadata": {},
   "source": [
    "...and the **shape of the data set** in rows and columns..."
   ]
  },
  {
   "cell_type": "code",
   "execution_count": 9,
   "metadata": {},
   "outputs": [
    {
     "data": {
      "text/plain": [
       "(36372, 14)"
      ]
     },
     "execution_count": 9,
     "metadata": {},
     "output_type": "execute_result"
    }
   ],
   "source": [
    "FAO_apples_bananas.shape"
   ]
  },
  {
   "cell_type": "markdown",
   "metadata": {},
   "source": [
    "...as well as the **types of data**..."
   ]
  },
  {
   "cell_type": "code",
   "execution_count": 10,
   "metadata": {},
   "outputs": [
    {
     "data": {
      "text/plain": [
       "Domain Code          object\n",
       "Domain               object\n",
       "Area Code             int64\n",
       "Area                 object\n",
       "Element Code          int64\n",
       "Element              object\n",
       "Item Code             int64\n",
       "Item                 object\n",
       "Year Code             int64\n",
       "Year                  int64\n",
       "Unit                 object\n",
       "Value               float64\n",
       "Flag                 object\n",
       "Flag Description     object\n",
       "dtype: object"
      ]
     },
     "execution_count": 10,
     "metadata": {},
     "output_type": "execute_result"
    }
   ],
   "source": [
    "FAO_apples_bananas.dtypes"
   ]
  },
  {
   "cell_type": "markdown",
   "metadata": {},
   "source": [
    "We can also look for **unique items** in each column and the number of entries for each item."
   ]
  },
  {
   "cell_type": "code",
   "execution_count": 11,
   "metadata": {},
   "outputs": [
    {
     "data": {
      "text/plain": [
       "Element\n",
       "Area harvested    12433\n",
       "Production        12597\n",
       "Yield             11342\n",
       "dtype: int64"
      ]
     },
     "execution_count": 11,
     "metadata": {},
     "output_type": "execute_result"
    }
   ],
   "source": [
    "FAO_apples_bananas.groupby('Element').size()"
   ]
  },
  {
   "cell_type": "markdown",
   "metadata": {},
   "source": [
    "# 5. Selecting Data\n",
    "In the previous section, we imported data from FAOSTAT on world production of apples and bananas. We can select subsections of this data, sort, and perform summary calculations like finding the sum or mean using pandas functions. For more on data queries, it might be useful to see this [comparison with SQL](https://pandas.pydata.org/pandas-docs/stable/getting_started/comparison/comparison_with_sql.html)."
   ]
  },
  {
   "cell_type": "markdown",
   "metadata": {},
   "source": [
    "## 5.1. Example: Top 5 Banana Producers \n",
    "Let's say that we want to graph banana production for the top five producers of bananas for the period covered by the FAOSTAT data set. To do this we can:  \n",
    "1. Select for data on banana production (excluding apples)\n",
    "2. Determine the range of years covered by the dataset\n",
    "3. Create a list containing the top 5 producers of bananas from each year (repeats allowed)\n",
    "4. Remove repeats from the list"
   ]
  },
  {
   "cell_type": "markdown",
   "metadata": {},
   "source": [
    "**1. Selecting for data on banana production**"
   ]
  },
  {
   "cell_type": "code",
   "execution_count": 12,
   "metadata": {},
   "outputs": [
    {
     "data": {
      "text/html": [
       "<div>\n",
       "<style scoped>\n",
       "    .dataframe tbody tr th:only-of-type {\n",
       "        vertical-align: middle;\n",
       "    }\n",
       "\n",
       "    .dataframe tbody tr th {\n",
       "        vertical-align: top;\n",
       "    }\n",
       "\n",
       "    .dataframe thead th {\n",
       "        text-align: right;\n",
       "    }\n",
       "</style>\n",
       "<table border=\"1\" class=\"dataframe\">\n",
       "  <thead>\n",
       "    <tr style=\"text-align: right;\">\n",
       "      <th></th>\n",
       "      <th>Domain Code</th>\n",
       "      <th>Domain</th>\n",
       "      <th>Area Code</th>\n",
       "      <th>Area</th>\n",
       "      <th>Element Code</th>\n",
       "      <th>Element</th>\n",
       "      <th>Item Code</th>\n",
       "      <th>Item</th>\n",
       "      <th>Year Code</th>\n",
       "      <th>Year</th>\n",
       "      <th>Unit</th>\n",
       "      <th>Value</th>\n",
       "      <th>Flag</th>\n",
       "      <th>Flag Description</th>\n",
       "    </tr>\n",
       "  </thead>\n",
       "  <tbody>\n",
       "    <tr>\n",
       "      <th>575</th>\n",
       "      <td>QC</td>\n",
       "      <td>Crops</td>\n",
       "      <td>4</td>\n",
       "      <td>Algeria</td>\n",
       "      <td>5510</td>\n",
       "      <td>Production</td>\n",
       "      <td>486</td>\n",
       "      <td>Bananas</td>\n",
       "      <td>1961</td>\n",
       "      <td>1961</td>\n",
       "      <td>tonnes</td>\n",
       "      <td>NaN</td>\n",
       "      <td>M</td>\n",
       "      <td>Data not available</td>\n",
       "    </tr>\n",
       "    <tr>\n",
       "      <th>576</th>\n",
       "      <td>QC</td>\n",
       "      <td>Crops</td>\n",
       "      <td>4</td>\n",
       "      <td>Algeria</td>\n",
       "      <td>5510</td>\n",
       "      <td>Production</td>\n",
       "      <td>486</td>\n",
       "      <td>Bananas</td>\n",
       "      <td>1962</td>\n",
       "      <td>1962</td>\n",
       "      <td>tonnes</td>\n",
       "      <td>NaN</td>\n",
       "      <td>M</td>\n",
       "      <td>Data not available</td>\n",
       "    </tr>\n",
       "    <tr>\n",
       "      <th>577</th>\n",
       "      <td>QC</td>\n",
       "      <td>Crops</td>\n",
       "      <td>4</td>\n",
       "      <td>Algeria</td>\n",
       "      <td>5510</td>\n",
       "      <td>Production</td>\n",
       "      <td>486</td>\n",
       "      <td>Bananas</td>\n",
       "      <td>1963</td>\n",
       "      <td>1963</td>\n",
       "      <td>tonnes</td>\n",
       "      <td>NaN</td>\n",
       "      <td>M</td>\n",
       "      <td>Data not available</td>\n",
       "    </tr>\n",
       "  </tbody>\n",
       "</table>\n",
       "</div>"
      ],
      "text/plain": [
       "    Domain Code Domain  Area Code     Area  Element Code     Element  \\\n",
       "575          QC  Crops          4  Algeria          5510  Production   \n",
       "576          QC  Crops          4  Algeria          5510  Production   \n",
       "577          QC  Crops          4  Algeria          5510  Production   \n",
       "\n",
       "     Item Code     Item  Year Code  Year    Unit  Value Flag  \\\n",
       "575        486  Bananas       1961  1961  tonnes    NaN    M   \n",
       "576        486  Bananas       1962  1962  tonnes    NaN    M   \n",
       "577        486  Bananas       1963  1963  tonnes    NaN    M   \n",
       "\n",
       "       Flag Description  \n",
       "575  Data not available  \n",
       "576  Data not available  \n",
       "577  Data not available  "
      ]
     },
     "execution_count": 12,
     "metadata": {},
     "output_type": "execute_result"
    }
   ],
   "source": [
    "FAO_bananas_production = FAO_apples_bananas[\n",
    "    (FAO_apples_bananas['Item'] == 'Bananas')\n",
    "    & (FAO_apples_bananas['Element'] == 'Production')\n",
    "    ]\n",
    "\n",
    "FAO_bananas_production.head(3)"
   ]
  },
  {
   "cell_type": "markdown",
   "metadata": {},
   "source": [
    "**2. Determining the range of years covered by the dataset** "
   ]
  },
  {
   "cell_type": "code",
   "execution_count": 14,
   "metadata": {},
   "outputs": [
    {
     "name": "stdout",
     "output_type": "stream",
     "text": [
      "[1961 1962 1963 1964 1965 1966 1967 1968 1969 1970 1971 1972 1973 1974\n",
      " 1975 1976 1977 1978 1979 1980 1981 1982 1983 1984 1985 1986 1987 1988\n",
      " 1989 1990 1991 1992 1993 1994 1995 1996 1997 1998 1999 2000 2001 2002\n",
      " 2003 2004 2005 2006 2007 2008 2009 2010 2011 2012 2013 2014 2015 2016\n",
      " 2017 2018]\n"
     ]
    }
   ],
   "source": [
    "data_years = FAO_apples_bananas['Year'].unique()\n",
    "print(data_years)"
   ]
  },
  {
   "cell_type": "markdown",
   "metadata": {},
   "source": [
    "**3. Creating a list containing the top 5 producers of bananas from each year**"
   ]
  },
  {
   "cell_type": "code",
   "execution_count": 15,
   "metadata": {},
   "outputs": [
    {
     "data": {
      "text/plain": [
       "['Brazil',\n",
       " 'Ecuador',\n",
       " 'India',\n",
       " 'Philippines',\n",
       " 'Burundi',\n",
       " 'Brazil',\n",
       " 'Ecuador',\n",
       " 'India',\n",
       " 'Philippines',\n",
       " 'Burundi',\n",
       " 'Brazil',\n",
       " 'India',\n",
       " 'Ecuador',\n",
       " 'Burundi',\n",
       " 'Philippines',\n",
       " 'Brazil',\n",
       " 'Ecuador',\n",
       " 'India',\n",
       " 'Burundi',\n",
       " 'Philippines',\n",
       " 'Brazil',\n",
       " 'Ecuador',\n",
       " 'India',\n",
       " 'Thailand',\n",
       " 'Burundi',\n",
       " 'Brazil',\n",
       " 'India',\n",
       " 'Ecuador',\n",
       " 'Thailand',\n",
       " 'Burundi',\n",
       " 'Brazil',\n",
       " 'India',\n",
       " 'Ecuador',\n",
       " 'Honduras',\n",
       " 'Thailand',\n",
       " 'Brazil',\n",
       " 'India',\n",
       " 'Ecuador',\n",
       " 'Honduras',\n",
       " 'Burundi',\n",
       " 'Brazil',\n",
       " 'India',\n",
       " 'Ecuador',\n",
       " 'Honduras',\n",
       " 'Burundi',\n",
       " 'Brazil',\n",
       " 'Ecuador',\n",
       " 'India',\n",
       " 'Indonesia',\n",
       " 'Honduras',\n",
       " 'Brazil',\n",
       " 'India',\n",
       " 'Ecuador',\n",
       " 'Indonesia',\n",
       " 'Honduras',\n",
       " 'Brazil',\n",
       " 'India',\n",
       " 'Ecuador',\n",
       " 'Indonesia',\n",
       " 'Honduras',\n",
       " 'Brazil',\n",
       " 'India',\n",
       " 'Ecuador',\n",
       " 'Indonesia',\n",
       " 'Honduras',\n",
       " 'Brazil',\n",
       " 'India',\n",
       " 'Ecuador',\n",
       " 'Indonesia',\n",
       " 'Philippines',\n",
       " 'Brazil',\n",
       " 'India',\n",
       " 'Ecuador',\n",
       " 'Philippines',\n",
       " 'Indonesia',\n",
       " 'Brazil',\n",
       " 'India',\n",
       " 'Ecuador',\n",
       " 'Philippines',\n",
       " 'Thailand',\n",
       " 'Brazil',\n",
       " 'India',\n",
       " 'Philippines',\n",
       " 'Ecuador',\n",
       " 'Indonesia',\n",
       " 'India',\n",
       " 'Brazil',\n",
       " 'Philippines',\n",
       " 'Ecuador',\n",
       " 'Thailand',\n",
       " 'India',\n",
       " 'Brazil',\n",
       " 'Philippines',\n",
       " 'Ecuador',\n",
       " 'Indonesia',\n",
       " 'Brazil',\n",
       " 'India',\n",
       " 'Philippines',\n",
       " 'Ecuador',\n",
       " 'Indonesia',\n",
       " 'Brazil',\n",
       " 'India',\n",
       " 'Philippines',\n",
       " 'Indonesia',\n",
       " 'Ecuador',\n",
       " 'Brazil',\n",
       " 'India',\n",
       " 'Philippines',\n",
       " 'Indonesia',\n",
       " 'Ecuador',\n",
       " 'India',\n",
       " 'Brazil',\n",
       " 'Philippines',\n",
       " 'Indonesia',\n",
       " 'Ecuador',\n",
       " 'India',\n",
       " 'Brazil',\n",
       " 'Philippines',\n",
       " 'Mexico',\n",
       " 'Indonesia',\n",
       " 'India',\n",
       " 'Brazil',\n",
       " 'Philippines',\n",
       " 'Mexico',\n",
       " 'Ecuador',\n",
       " 'India',\n",
       " 'Brazil',\n",
       " 'Philippines',\n",
       " 'Indonesia',\n",
       " 'Ecuador',\n",
       " 'India',\n",
       " 'Brazil',\n",
       " 'Philippines',\n",
       " 'Ecuador',\n",
       " 'China',\n",
       " 'India',\n",
       " 'Brazil',\n",
       " 'Philippines',\n",
       " 'Ecuador',\n",
       " 'Indonesia',\n",
       " 'India',\n",
       " 'Brazil',\n",
       " 'Philippines',\n",
       " 'Ecuador',\n",
       " 'Indonesia',\n",
       " 'India',\n",
       " 'Brazil',\n",
       " 'Philippines',\n",
       " 'Ecuador',\n",
       " 'Rwanda',\n",
       " 'India',\n",
       " 'Brazil',\n",
       " 'Philippines',\n",
       " 'Rwanda',\n",
       " 'Ecuador',\n",
       " 'India',\n",
       " 'Brazil',\n",
       " 'Ecuador',\n",
       " 'Philippines',\n",
       " 'Rwanda',\n",
       " 'India',\n",
       " 'Brazil',\n",
       " 'Ecuador',\n",
       " 'Philippines',\n",
       " 'China',\n",
       " 'India',\n",
       " 'Brazil',\n",
       " 'Ecuador',\n",
       " 'Philippines',\n",
       " 'Indonesia',\n",
       " 'India',\n",
       " 'Brazil',\n",
       " 'Ecuador',\n",
       " 'Philippines',\n",
       " 'Indonesia',\n",
       " 'India',\n",
       " 'Ecuador',\n",
       " 'Brazil',\n",
       " 'Philippines',\n",
       " 'Indonesia',\n",
       " 'India',\n",
       " 'Ecuador',\n",
       " 'Brazil',\n",
       " 'Philippines',\n",
       " 'China',\n",
       " 'India',\n",
       " 'Ecuador',\n",
       " 'Brazil',\n",
       " 'Philippines',\n",
       " 'China',\n",
       " 'India',\n",
       " 'Ecuador',\n",
       " 'Brazil',\n",
       " 'Philippines',\n",
       " 'China',\n",
       " 'India',\n",
       " 'Brazil',\n",
       " 'Ecuador',\n",
       " 'China',\n",
       " 'China, mainland',\n",
       " 'India',\n",
       " 'Brazil',\n",
       " 'Ecuador',\n",
       " 'China',\n",
       " 'China, mainland',\n",
       " 'India',\n",
       " 'Brazil',\n",
       " 'China',\n",
       " 'Ecuador',\n",
       " 'China, mainland',\n",
       " 'India',\n",
       " 'Brazil',\n",
       " 'Ecuador',\n",
       " 'China',\n",
       " 'China, mainland',\n",
       " 'India',\n",
       " 'Brazil',\n",
       " 'China',\n",
       " 'Ecuador',\n",
       " 'China, mainland',\n",
       " 'India',\n",
       " 'Brazil',\n",
       " 'China',\n",
       " 'China, mainland',\n",
       " 'Philippines',\n",
       " 'India',\n",
       " 'China',\n",
       " 'Brazil',\n",
       " 'China, mainland',\n",
       " 'Philippines',\n",
       " 'India',\n",
       " 'China',\n",
       " 'China, mainland',\n",
       " 'Philippines',\n",
       " 'Brazil',\n",
       " 'India',\n",
       " 'Philippines',\n",
       " 'China',\n",
       " 'China, mainland',\n",
       " 'Brazil',\n",
       " 'India',\n",
       " 'Philippines',\n",
       " 'China',\n",
       " 'China, mainland',\n",
       " 'Ecuador',\n",
       " 'India',\n",
       " 'China',\n",
       " 'China, mainland',\n",
       " 'Philippines',\n",
       " 'Ecuador',\n",
       " 'India',\n",
       " 'China',\n",
       " 'China, mainland',\n",
       " 'Philippines',\n",
       " 'Ecuador',\n",
       " 'India',\n",
       " 'China',\n",
       " 'China, mainland',\n",
       " 'Philippines',\n",
       " 'Ecuador',\n",
       " 'India',\n",
       " 'China',\n",
       " 'China, mainland',\n",
       " 'Philippines',\n",
       " 'Brazil',\n",
       " 'India',\n",
       " 'China',\n",
       " 'China, mainland',\n",
       " 'Brazil',\n",
       " 'Indonesia',\n",
       " 'India',\n",
       " 'China',\n",
       " 'China, mainland',\n",
       " 'Indonesia',\n",
       " 'Ecuador',\n",
       " 'India',\n",
       " 'China',\n",
       " 'China, mainland',\n",
       " 'Indonesia',\n",
       " 'Brazil',\n",
       " 'India',\n",
       " 'China',\n",
       " 'China, mainland',\n",
       " 'Indonesia',\n",
       " 'Brazil',\n",
       " 'India',\n",
       " 'China',\n",
       " 'China, mainland',\n",
       " 'Indonesia',\n",
       " 'Brazil']"
      ]
     },
     "execution_count": 15,
     "metadata": {},
     "output_type": "execute_result"
    }
   ],
   "source": [
    "major_producers = list()\n",
    "for year in data_years:\n",
    "    yearly_production = FAO_bananas_production[\n",
    "        FAO_bananas_production['Year'] == year] #Select production data for a given year\n",
    "    yearly_leaders = yearly_production.nlargest(5,'Value')['Area'].tolist() #Select the top 5 producers in a given year.\n",
    "    #print(yearly_leaders)\n",
    "    major_producers = major_producers+yearly_leaders\n",
    "major_producers"
   ]
  },
  {
   "cell_type": "markdown",
   "metadata": {},
   "source": [
    "**4. Removing repeat values from list**"
   ]
  },
  {
   "cell_type": "code",
   "execution_count": 16,
   "metadata": {},
   "outputs": [
    {
     "data": {
      "text/plain": [
       "['Brazil',\n",
       " 'Indonesia',\n",
       " 'China, mainland',\n",
       " 'China',\n",
       " 'Thailand',\n",
       " 'Rwanda',\n",
       " 'Ecuador',\n",
       " 'Honduras',\n",
       " 'Mexico',\n",
       " 'Philippines',\n",
       " 'Burundi',\n",
       " 'India']"
      ]
     },
     "execution_count": 16,
     "metadata": {},
     "output_type": "execute_result"
    }
   ],
   "source": [
    "major_producers_set = set(major_producers)\n",
    "major_producers_list = list(major_producers_set)\n",
    "major_producers_list"
   ]
  },
  {
   "cell_type": "markdown",
   "metadata": {},
   "source": [
    "# 6. Plotting Data\n",
    "The most common libraries used for plotting are [Matplotlib](https://matplotlib.org/) and [Seaborn](https://seaborn.pydata.org/tutorial.html). Both are included in the Anaconda distribution. For geographic applications, you will likely be using [cartopy](https://scitools.org.uk/cartopy/docs/latest/gallery/index.html), which is not included and would need to be installed separately. In this case, we will be using Matplotlib."
   ]
  },
  {
   "cell_type": "code",
   "execution_count": 17,
   "metadata": {},
   "outputs": [],
   "source": [
    "import matplotlib.pyplot as plt\n",
    "%matplotlib inline"
   ]
  },
  {
   "cell_type": "markdown",
   "metadata": {},
   "source": [
    "## 6.1. Example: Plotting Top 5 Banana Producers\n",
    "**In Section 4**, we imported the FAOSTAT data on banana production.  \n",
    "**In Section 5**, we developed a list of all countries that have been top 5 bananas producers in the period 1961-2018.  \n",
    "**Now**, we will plot bananas production numbers for these countries from 1961-2018.  \n",
    "\n",
    "To do this, we will:\n",
    "1. Select banana production data for countries in major_producer_list\n",
    "2. Plot this data using Matplotlib"
   ]
  },
  {
   "cell_type": "markdown",
   "metadata": {},
   "source": [
    "**1. Selecting banana production data for countries in major_producer_list**"
   ]
  },
  {
   "cell_type": "code",
   "execution_count": 18,
   "metadata": {},
   "outputs": [
    {
     "data": {
      "text/html": [
       "<div>\n",
       "<style scoped>\n",
       "    .dataframe tbody tr th:only-of-type {\n",
       "        vertical-align: middle;\n",
       "    }\n",
       "\n",
       "    .dataframe tbody tr th {\n",
       "        vertical-align: top;\n",
       "    }\n",
       "\n",
       "    .dataframe thead th {\n",
       "        text-align: right;\n",
       "    }\n",
       "</style>\n",
       "<table border=\"1\" class=\"dataframe\">\n",
       "  <thead>\n",
       "    <tr style=\"text-align: right;\">\n",
       "      <th></th>\n",
       "      <th>Domain Code</th>\n",
       "      <th>Domain</th>\n",
       "      <th>Area Code</th>\n",
       "      <th>Area</th>\n",
       "      <th>Element Code</th>\n",
       "      <th>Element</th>\n",
       "      <th>Item Code</th>\n",
       "      <th>Item</th>\n",
       "      <th>Year Code</th>\n",
       "      <th>Year</th>\n",
       "      <th>Unit</th>\n",
       "      <th>Value</th>\n",
       "      <th>Flag</th>\n",
       "      <th>Flag Description</th>\n",
       "    </tr>\n",
       "  </thead>\n",
       "  <tbody>\n",
       "    <tr>\n",
       "      <th>4525</th>\n",
       "      <td>QC</td>\n",
       "      <td>Crops</td>\n",
       "      <td>21</td>\n",
       "      <td>Brazil</td>\n",
       "      <td>5510</td>\n",
       "      <td>Production</td>\n",
       "      <td>486</td>\n",
       "      <td>Bananas</td>\n",
       "      <td>1961</td>\n",
       "      <td>1961</td>\n",
       "      <td>tonnes</td>\n",
       "      <td>2823040.0</td>\n",
       "      <td>NaN</td>\n",
       "      <td>Official data</td>\n",
       "    </tr>\n",
       "    <tr>\n",
       "      <th>4526</th>\n",
       "      <td>QC</td>\n",
       "      <td>Crops</td>\n",
       "      <td>21</td>\n",
       "      <td>Brazil</td>\n",
       "      <td>5510</td>\n",
       "      <td>Production</td>\n",
       "      <td>486</td>\n",
       "      <td>Bananas</td>\n",
       "      <td>1962</td>\n",
       "      <td>1962</td>\n",
       "      <td>tonnes</td>\n",
       "      <td>3126860.0</td>\n",
       "      <td>NaN</td>\n",
       "      <td>Official data</td>\n",
       "    </tr>\n",
       "    <tr>\n",
       "      <th>4527</th>\n",
       "      <td>QC</td>\n",
       "      <td>Crops</td>\n",
       "      <td>21</td>\n",
       "      <td>Brazil</td>\n",
       "      <td>5510</td>\n",
       "      <td>Production</td>\n",
       "      <td>486</td>\n",
       "      <td>Bananas</td>\n",
       "      <td>1963</td>\n",
       "      <td>1963</td>\n",
       "      <td>tonnes</td>\n",
       "      <td>3256300.0</td>\n",
       "      <td>NaN</td>\n",
       "      <td>Official data</td>\n",
       "    </tr>\n",
       "  </tbody>\n",
       "</table>\n",
       "</div>"
      ],
      "text/plain": [
       "     Domain Code Domain  Area Code    Area  Element Code     Element  \\\n",
       "4525          QC  Crops         21  Brazil          5510  Production   \n",
       "4526          QC  Crops         21  Brazil          5510  Production   \n",
       "4527          QC  Crops         21  Brazil          5510  Production   \n",
       "\n",
       "      Item Code     Item  Year Code  Year    Unit      Value Flag  \\\n",
       "4525        486  Bananas       1961  1961  tonnes  2823040.0  NaN   \n",
       "4526        486  Bananas       1962  1962  tonnes  3126860.0  NaN   \n",
       "4527        486  Bananas       1963  1963  tonnes  3256300.0  NaN   \n",
       "\n",
       "     Flag Description  \n",
       "4525    Official data  \n",
       "4526    Official data  \n",
       "4527    Official data  "
      ]
     },
     "execution_count": 18,
     "metadata": {},
     "output_type": "execute_result"
    }
   ],
   "source": [
    "FAO_bananas_production_in_top_5= FAO_bananas_production[\n",
    "    FAO_bananas_production['Area'].isin(major_producers_list)\n",
    "]\n",
    "FAO_bananas_production_in_top_5.head(3)"
   ]
  },
  {
   "cell_type": "markdown",
   "metadata": {},
   "source": [
    "**2. Plotting the data.**  \n",
    "In this case, we first turn the data frame into a pivot table."
   ]
  },
  {
   "cell_type": "code",
   "execution_count": 19,
   "metadata": {},
   "outputs": [
    {
     "data": {
      "text/plain": [
       "<matplotlib.legend.Legend at 0x2665cc96358>"
      ]
     },
     "execution_count": 19,
     "metadata": {},
     "output_type": "execute_result"
    },
    {
     "data": {
      "text/plain": [
       "<Figure size 432x288 with 0 Axes>"
      ]
     },
     "metadata": {},
     "output_type": "display_data"
    },
    {
     "data": {
      "image/png": "[encoded data removed]",
      "text/plain": [
       "<Figure size 720x432 with 1 Axes>"
      ]
     },
     "metadata": {},
     "output_type": "display_data"
    }
   ],
   "source": [
    "fig = plt.figure()\n",
    "FAO_bananas_production_in_top_5.pivot_table(index='Year',columns='Area',values='Value',aggfunc='sum').plot(figsize=(10,6))\n",
    "plt.title('Banana Production by Historical Top 5 Producers (1961-2018)', size = 15)\n",
    "plt.xlabel('Year', size = 15)\n",
    "plt.ylabel('Annual Production (tons)', size = 15)\n",
    "plt.legend(bbox_to_anchor=(1.05, 1), loc='upper left', borderaxespad=0.)"
   ]
  },
  {
   "cell_type": "markdown",
   "metadata": {},
   "source": [
    "# 7. Working with Words\n",
    "Jupyter Notebook can also be used to perform quantitative text analysis. To get you started, here is a link to a beginning tutorial using [nltk](https://www.datacamp.com/community/tutorials/text-analytics-beginners-nltk)"
   ]
  },
  {
   "cell_type": "markdown",
   "metadata": {},
   "source": [
    "## 7.1. Example: U.S. Constitution\n",
    "In this example, we will be using Jupyter Notebook to find and print sentences containing the words \"House of Representatives\" in the U.S. Constitution. "
   ]
  },
  {
   "cell_type": "markdown",
   "metadata": {},
   "source": [
    "To start off, we will find an online version of the US Constitution (https://www.usconstitution.net/const.txt) and import the data to Jupyter Notebook using urllib.request. "
   ]
  },
  {
   "cell_type": "code",
   "execution_count": 20,
   "metadata": {},
   "outputs": [],
   "source": [
    "import urllib.request\n",
    "US_Const_from_web = urllib.request.urlopen(\"https://www.usconstitution.net/const.txt\").read(50000) # read only 50 000 chars"
   ]
  },
  {
   "cell_type": "markdown",
   "metadata": {},
   "source": [
    "We will also have to:\n",
    "1. Change the format from utf-8 to a python string.\n",
    "2. Replace newline characters with spaces.\n",
    "3. Find the beginning of the text (there are some credits we want the computer to ignore)"
   ]
  },
  {
   "cell_type": "code",
   "execution_count": 21,
   "metadata": {},
   "outputs": [],
   "source": [
    "US_Const_str = str(US_Const_from_web, 'utf-8') #convert bytes to string\n",
    "US_Const_str = US_Const_str.replace('\\n',' ') #remove new line characters\n",
    "Start_index = US_Const_str.find('We the People') #Find the beginning of the US Constitution\n",
    "US_Const = US_Const_str[Start_index:]"
   ]
  },
  {
   "cell_type": "markdown",
   "metadata": {},
   "source": [
    "It might be a good idea to check at this point that we have the right data."
   ]
  },
  {
   "cell_type": "code",
   "execution_count": 22,
   "metadata": {},
   "outputs": [
    {
     "data": {
      "text/plain": [
       "'We the People of the United States, in Order to form a more perfect Union, establish Justice, insure domestic Tranquility, provide for the common defence, promote the general Welfare, and secure the Blessings of Liberty to ourselves and our Posterity, do ordain and establish'"
      ]
     },
     "execution_count": 22,
     "metadata": {},
     "output_type": "execute_result"
    }
   ],
   "source": [
    "US_Const[0:275]"
   ]
  },
  {
   "cell_type": "markdown",
   "metadata": {},
   "source": [
    "We will now import the library [nltk](https://www.nltk.org/) and use the function sent_tokenize to break up individual sentences and store them as items in a list."
   ]
  },
  {
   "cell_type": "code",
   "execution_count": 23,
   "metadata": {},
   "outputs": [
    {
     "name": "stdout",
     "output_type": "stream",
     "text": [
      "[nltk_data] Downloading package punkt to\n",
      "[nltk_data]     C:\\Users\\guynevans\\AppData\\Roaming\\nltk_data...\n",
      "[nltk_data]   Package punkt is already up-to-date!\n"
     ]
    }
   ],
   "source": [
    "import nltk\n",
    "nltk.download('punkt') #downloads a list of punctuations\n",
    "from nltk.tokenize import sent_tokenize"
   ]
  },
  {
   "cell_type": "code",
   "execution_count": 24,
   "metadata": {},
   "outputs": [
    {
     "name": "stdout",
     "output_type": "stream",
     "text": [
      "We the People of the United States, in Order to form a more perfect Union, establish Justice, insure domestic Tranquility, provide for the common defence, promote the general Welfare, and secure the Blessings of Liberty to ourselves and our Posterity, do ordain and establish this Constitution for the United States of America.\n"
     ]
    }
   ],
   "source": [
    "US_Const_token_sent=sent_tokenize(US_Const)\n",
    "print(US_Const_token_sent[0])"
   ]
  },
  {
   "cell_type": "code",
   "execution_count": 25,
   "metadata": {},
   "outputs": [
    {
     "name": "stdout",
     "output_type": "stream",
     "text": [
      "There are 14 sentences in the U.S. Constitution containing \"House of Representatives\". These are as follows: \n",
      "\n",
      "Section 1 All legislative Powers herein granted shall be vested in a Congress of the United States, which shall consist of a Senate and House of Representatives.\n",
      "\n",
      "Section 2 The House of Representatives shall be composed of Members chosen every second Year by the People of the several States, and the Electors in each State shall have the Qualifications requisite for Electors of the most numerous Branch of the State Legislature.\n",
      "\n",
      "The House of Representatives shall choose their Speaker and other Officers; and shall have the sole Power of Impeachment.\n",
      "\n",
      "Section 7 All bills for raising Revenue shall originate in the House of Representatives; but the Senate may propose or concur with Amendments as on other Bills.\n",
      "\n",
      "Every Bill which shall have passed the House of Representatives and the Senate, shall, before it become a Law, be presented to the President of the United States; If he approve he shall sign it, but if not he shall return it, with his Objections to that House in which it shall have originated, who shall enter the Objections at large on their Journal, and proceed to reconsider it.\n",
      "\n",
      "Every Order, Resolution, or Vote to which the Concurrence of the Senate and House of Representatives may be necessary (except on a question of Adjournment) shall be presented to the President of the United States; and before the Same shall take Effect, shall be approved by him, or being disapproved by him, shall be repassed by two thirds of the Senate and House of Representatives, according to the Rules and Limitations prescribed in the Case of a Bill.\n",
      "\n",
      "The President of the Senate shall, in the Presence of the Senate and House of Representatives, open all the Certificates, and the Votes shall then be counted.\n",
      "\n",
      "The Person having the greatest Number of Votes shall be the President, if such Number be a Majority of the whole Number of Electors appointed; and if there be more than one who have such Majority, and have an equal Number of Votes, then the House of Representatives shall immediately choose by Ballot one of them for President; and if no Person have a Majority, then from the five highest on the List the said House shall in like Manner choose the President.\n",
      "\n",
      "Amendment 12 The Electors shall meet in their respective states, and vote by ballot for President and Vice-President, one of whom, at least, shall not be an inhabitant of the same state with themselves; they shall name in their ballots the person voted for as President, and in distinct ballots the person voted for as Vice-President, and they shall make distinct lists of all persons voted for as President, and of all persons voted for as Vice-President and of the number of votes for each, which lists they shall sign and certify, and transmit sealed to the seat of the government of the United States, directed to the President of the Senate;  The President of the Senate shall, in the presence of the Senate and House of Representatives, open all the certificates and the votes shall then be counted;  The person having the greatest Number of votes for President, shall be the President, if such number be a majority of the whole number of Electors appointed; and if no person have such majority, then from the persons having the highest numbers not exceeding three on the list of those voted for as President, the House of Representatives shall choose immediately, by ballot, the President.\n",
      "\n",
      "And if the House of Representatives shall not choose a President whenever the right of choice shall devolve upon them, before the fourth day of March next following, then the Vice-President shall act as President, as in the case of the death or other constitutional disability of the President.\n",
      "\n",
      "The Congress may by law provide for the case of the death of any of the persons from whom the House of Representatives may choose a President whenever the right of choice shall have devolved upon them, and for the case of the death of any of the persons from whom the Senate may choose a Vice President whenever the right of choice shall have devolved upon them.\n",
      "\n",
      "Whenever the President transmits to the President pro tempore of the Senate and the Speaker of the House of Representatives his written declaration that he is unable to discharge the powers and duties of his office, and until he transmits to them a written declaration to the contrary, such powers and duties shall be discharged by the Vice President as Acting President.\n",
      "\n",
      "Whenever the Vice President and a majority of either the principal officers of the executive departments or of such other body as Congress may by law provide, transmit to the President pro tempore of the Senate and the Speaker of the House of Representatives their written declaration that the President is unable to discharge the powers and duties of his office, the Vice President shall immediately assume the powers and duties of the office as Acting President.\n",
      "\n",
      "Thereafter, when the President transmits to the President pro tempore of the Senate and the Speaker of the House of Representatives his written declaration that no inability exists, he shall resume the powers and duties of his office unless the Vice President and a majority of either the principal officers of the executive department or of such other body as Congress may by law provide, transmit within four days to the President pro tempore of the Senate and the Speaker of the House of Representatives their written declaration that the President is unable to discharge the powers and duties of his office.\n"
     ]
    }
   ],
   "source": [
    "key_word = 'House of Representatives'\n",
    "key_word_sentences = list()\n",
    "\n",
    "for sentence in list(range(len(US_Const_token_sent))):\n",
    "    if US_Const_token_sent[sentence].find(key_word) != -1:\n",
    "        key_word_sentences += [US_Const_token_sent[sentence]]\n",
    "        \n",
    "print ('There are ' \n",
    "       + str(len(key_word_sentences)) \n",
    "       + ' sentences in the U.S. Constitution containing \"'\n",
    "       + key_word +'\". These are as follows: ')\n",
    "\n",
    "for sentence in list(range(len(key_word_sentences))):\n",
    "    print()\n",
    "    print(key_word_sentences[sentence])"
   ]
  },
  {
   "cell_type": "markdown",
   "metadata": {},
   "source": [
    "# 8. Defining a Function\n",
    "Python allows the user to easily define a function by starting the function with **def**, function followed by the name of the function, the input variables in parenthesis and then a colon. Additional lines of the function are indented and the function ends with a **return** statement. (It is easier to just look at an example.). All variable assignments within the function are internal to the function.  "
   ]
  },
  {
   "cell_type": "markdown",
   "metadata": {},
   "source": [
    "## 8.1. Example: Law of Cosines \n",
    "\n",
    "In the following code block, we ceate a user-defined function that returns the length of the third side of a triangle given the lengths of two sides and the intervening angle using the Law of Cosines.  \n",
    "\n",
    "Mathematically, the Law of Cosines (written in $\\LaTeX$) is defined as:  \n",
    "\n",
    "$$c = \\sqrt{a^2+b^2 - 2ab cos(\\gamma)}\\tag{2}$$  \n",
    "\n",
    "where a, b, c, and $\\gamma$ refer to the following image (taken from an online source using HTML):  \n",
    "\n",
    "<p><img src=\"https://upload.wikimedia.org/wikipedia/commons/thumb/4/49/Triangle_with_notations_2.svg/1200px-Triangle_with_notations_2.svg.png\" alt=\"Triangle with notations 2.svg\" style=\"width:250px;height:150px;\"><br>Image citation: by David Weisman (<a href=\"https://en.wikipedia.org/wiki/User:Dweisman\" class=\"extiw\" title=\"en:User:Dweisman\">Dweisman</a>) - En-Wiki. Original description is/was <a href=\"https://en.wikipedia.org/wiki/Image:TriangleWithNotations.svg\" class=\"extiw\" title=\"en:Image:TriangleWithNotations.svg\">here</a>, Public Domain, <a href=\"https://commons.wikimedia.org/w/index.php?curid=2596911\">Link</a></p>  \n",
    "\n",
    "We will now define the function using the following code block:"
   ]
  },
  {
   "cell_type": "code",
   "execution_count": 26,
   "metadata": {},
   "outputs": [],
   "source": [
    "import math\n",
    "pi=math.pi"
   ]
  },
  {
   "cell_type": "code",
   "execution_count": 27,
   "metadata": {},
   "outputs": [],
   "source": [
    "#This function uses the Law of Cosines to find the length of the third side of a triangle\n",
    "#given two sides and the angle between them (in degrees).\n",
    "def Length_of_third_side(a,b,Theta_degrees):\n",
    "    a_squared = a**2 #square the first side\n",
    "    b_squared = b**2 #square the second side\n",
    "    Theta_radians = 2*pi*Theta_degrees/360 #Convert Theta_degrees to radians.\n",
    "    c_squared = (a_squared)+(b_squared)-(2*a*b*math.cos(Theta_radians))\n",
    "    c = math.sqrt(c_squared)\n",
    "    return c"
   ]
  },
  {
   "cell_type": "markdown",
   "metadata": {},
   "source": [
    "We will now print out a few examples:  "
   ]
  },
  {
   "cell_type": "code",
   "execution_count": 28,
   "metadata": {},
   "outputs": [
    {
     "name": "stdout",
     "output_type": "stream",
     "text": [
      "Given that the lengths of two sides of a triangle are 5 and 12,\n",
      "and that the intervening angle is 90 degrees,\n",
      "the length of the third side is 13.0.\n"
     ]
    }
   ],
   "source": [
    "a=5\n",
    "b=12\n",
    "Gamma_degrees=90\n",
    "c=Length_of_third_side(a,b,Gamma_degrees)\n",
    "print('Given that the lengths of two sides of a triangle are ' + str(a) + ' and ' + str(b) +',\\n'\n",
    "      + 'and that the intervening angle is ' + str(Gamma_degrees) + ' degrees,\\n'\n",
    "      +'the length of the third side is ' + str(c) + '.')"
   ]
  },
  {
   "cell_type": "code",
   "execution_count": 29,
   "metadata": {},
   "outputs": [
    {
     "name": "stdout",
     "output_type": "stream",
     "text": [
      "Given that the lengths of two sides of a triangle are 1 and 1.7320508075688772,\n",
      "and that the intervening angle is 30 degrees,\n",
      "the length of the third side is 0.9999999999999998.\n"
     ]
    }
   ],
   "source": [
    "a=1\n",
    "b=3**0.5\n",
    "Gamma_degrees=30\n",
    "c=Length_of_third_side(a,b,Gamma_degrees)\n",
    "print('Given that the lengths of two sides of a triangle are ' + str(a) + ' and ' + str(b) +',\\n'\n",
    "      + 'and that the intervening angle is ' + str(Gamma_degrees) + ' degrees,\\n'\n",
    "      +'the length of the third side is ' + str(c) + '.')"
   ]
  },
  {
   "cell_type": "code",
   "execution_count": 30,
   "metadata": {},
   "outputs": [
    {
     "name": "stdout",
     "output_type": "stream",
     "text": [
      "Given that the lengths of two sides of a triangle are 1 and 1,\n",
      "and that the intervening angle is 60 degrees,\n",
      "the length of the third side is 0.9999999999999999.\n"
     ]
    }
   ],
   "source": [
    "a=1\n",
    "b=1\n",
    "Gamma_degrees=60\n",
    "c=Length_of_third_side(a,b,Gamma_degrees)\n",
    "print('Given that the lengths of two sides of a triangle are ' + str(a) + ' and ' + str(b) +',\\n'\n",
    "      + 'and that the intervening angle is ' + str(Gamma_degrees) + ' degrees,\\n'\n",
    "      +'the length of the third side is ' + str(c) + '.')"
   ]
  },
  {
   "cell_type": "markdown",
   "metadata": {},
   "source": [
    "# Appendix A. Pedagogical Notes\n",
    "Most students will not be familiar with computational data analysis or even working with computers more generally. In fact, the main point of this workshop is to encourage you to expand teaching of computational and data skills beyond where they have been traditionally taught with the goal of expanding the base of students competent in these skills. Because you are intentionally imersing students in an **unfamiliar pedagogical environment**, I strongly recommend pairing the introduction of Jupyter Notebook with the concepts of **Growth Mindset** and (pedagogical) **Transparency**.  \n",
    "\n",
    "## A.1. Growth Mindset\n",
    "Briefly, a **\"growth mindset\"** is the psychological disposition (or belief) that learning fundamentally alters and improves one's abilities. Seen through this mindset, learning is not just the accumulation of new knowledge, but the directed development of new skills and new abilities. In other words, one does not simply learn \"more\", but also \"better\". Students with a growth mindset will be more willing to take on new and unfamiliar challenges and accept failures as learning opportunities rather than judgements.    \n",
    "\n",
    "The term \"growth mindset\" is typically used in opposition to the term **\"fixed mindset\"**, which describes the psychological disposition (or belief) that one's fundamental abilities are fixed, and that learning does not fundamentally alter one's inherent (and probably inherited) abilities. Under a fixed mindset, it makes sense to focus on areas of past success and avoid areas of past failure. It does not make sense to \"waste\" effort trying to learn something currently unfamiliar or in which one has had previous unsuccessful experiences. \n",
    "\n",
    "Importantly, both the \"growth mindset\" and the \"fixed mindset\" are functional beliefs. This means that to receive the benefits of a growth mindset it is enough to accept the growth mindset concept as a plausible working hypothesis even as one may hold onto deeply held doubts and contradictory core beliefs. As instructors, **we can help students to develop growth mindsets** by:  \n",
    "* explicitly exposing them to the ideas of \"growth\" and \"fixed\" mindsets\n",
    "* ensuring that first-time failures are low stakes (ideally, no stakes)\n",
    "* providing concrete opportunities for meaningful corrections \n",
    "\n",
    "In the context of Jupyter Notebook, it is important that students understand it is okay to try something and fail as long as they learn from these failures and eventually succeed. This emphasis on dedicated practice and willingness to learn rather than first-time knowledge and familiarity with the program should be concretely reflected in the grading policy, for example by offering students multiple oppportunities to receive ungraded feedback and submit assignments.  \n",
    "\n",
    "For more on the \"growth mindset\" and the opposing \"fixed mindset\", please see [Dweck, C. S. (2007) Mindset: The new psychology of success. Ballantine Books (ISBN 9780345472328).](https://www.penguinrandomhouse.com/books/44330/mindset-by-carol-s-dweck-phd/).  \n",
    "\n",
    "## A.2. Transparency\n",
    "The vast majority of students will be unfamiliar with the Jupyter Notebook program and computational and data-oriented thinking generally. Therefore, it is important to provide them with explicit guidance and instruction on assignment expectations and available resources that can help them complete these assignments. The use of explicit instruction and guidance toward helpful resources in an effort to familiarize students with an otherwise unfamiliar learning environment is the basic concept behind pedagogical **transparency**, which has been demonstrated to help first-generation students adjust to the otherwise unfamiliar and disorienting college learning environment. Concretely, pedagogical transparency means providing explicit guidance about:\n",
    "* how to complete an assignment\n",
    "* when to complete various parts of the assignment (i.e., a detailed schedule)\n",
    "* an explanation of what one is supposed to learn in completing the assignment\n",
    "* why that information or skill is valuable.  \n",
    "\n",
    "To help you integrate the concept of pedagogical transparency into your Jupyter Notebook assignment, I have provided a template **Assignment Overview** section for the assignment. As a matter of work process, I often find it easiest to develop this section last, once I have a clear idea of what the assignment actually includes and a clear head about what I am actually trying to teach.    \n",
    "\n",
    "You can find out more about Transparency in Learning and Teaching at the [TILT Higher Ed](https://tilthighered.com/) website.   "
   ]
  },
  {
   "cell_type": "code",
   "execution_count": null,
   "metadata": {},
   "outputs": [],
   "source": []
  }
 ],
 "metadata": {
  "kernelspec": {
   "display_name": "Python 3",
   "language": "python",
   "name": "python3"
  },
  "language_info": {
   "codemirror_mode": {
    "name": "ipython",
    "version": 3
   },
   "file_extension": ".py",
   "mimetype": "text/x-python",
   "name": "python",
   "nbconvert_exporter": "python",
   "pygments_lexer": "ipython3",
   "version": "3.6.5"
  }
 },
 "nbformat": 4,
 "nbformat_minor": 2
}
